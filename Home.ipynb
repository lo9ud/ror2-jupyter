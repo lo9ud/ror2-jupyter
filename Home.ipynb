{
 "cells": [
  {
   "cell_type": "markdown",
   "metadata": {},
   "source": [
    "# RoR2 Cheatsheet\n",
    "\n",
    "A (non-exhasutive as yet) cheatsheet for Risk of Rain 2\n",
    "\n",
    "## Contents:\n",
    "- [Items](./notebooks/Items.ipynb)\n",
    "- [Characters](./notebooks/Characters.ipynb)"
   ]
  }
 ],
 "metadata": {
  "interpreter": {
   "hash": "68783556e2603b5e95f6ebb41b563bf4022466d1b6945ee64055db1dd68b24be"
  },
  "kernelspec": {
   "display_name": "Python 3.10.2 64-bit",
   "language": "python",
   "name": "python3"
  },
  "language_info": {
   "codemirror_mode": {
    "name": "ipython",
    "version": 3
   },
   "file_extension": ".py",
   "mimetype": "text/x-python",
   "name": "python",
   "nbconvert_exporter": "python",
   "pygments_lexer": "ipython3",
   "version": "3.10.2"
  },
  "orig_nbformat": 4
 },
 "nbformat": 4,
 "nbformat_minor": 2
}
