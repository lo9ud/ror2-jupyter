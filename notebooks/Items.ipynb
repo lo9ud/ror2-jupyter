{
 "cells": [
  {
   "cell_type": "markdown",
   "metadata": {},
   "source": [
    "# Items (WIP)\n",
    "Item list with all effects and explanations of stacking mechanics (where known)\n",
    "\n",
    "### Item rarities:\n",
    "- [Common](./items/Common.ipynb)\n",
    "- [Uncommon](./items/Uncommon.ipynb)\n",
    "- [Legendary](./items/Legendary.ipynb)\n",
    "- [Boss](./items/Boss.ipynb)\n",
    "- [Lunar](./items/Lunar.ipynb)\n",
    "- [Void](./items/Void.ipynb)\n",
    "- [Equipment](./items/Equipment.ipynb)\n",
    "\n",
    "### Item categories:\n",
    " - [Attack](#attack)\n",
    " - [Defense]\n",
    " - [Support]\n",
    " - [Misc]"
   ]
  }
 ],
 "metadata": {
  "interpreter": {
   "hash": "68783556e2603b5e95f6ebb41b563bf4022466d1b6945ee64055db1dd68b24be"
  },
  "kernelspec": {
   "display_name": "Python 3.10.2 64-bit",
   "language": "python",
   "name": "python3"
  },
  "language_info": {
   "codemirror_mode": {
    "name": "ipython",
    "version": 3
   },
   "file_extension": ".py",
   "mimetype": "text/x-python",
   "name": "python",
   "nbconvert_exporter": "python",
   "pygments_lexer": "ipython3",
   "version": "3.10.2"
  },
  "orig_nbformat": 4
 },
 "nbformat": 4,
 "nbformat_minor": 2
}
