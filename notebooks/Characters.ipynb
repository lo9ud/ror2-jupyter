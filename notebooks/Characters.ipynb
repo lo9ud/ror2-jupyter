{
 "cells": [
  {
   "cell_type": "markdown",
   "metadata": {},
   "source": [
    "# Characters (WIP)\n",
    "\n",
    "All playable characters\n",
    " and their respective stats & abilities"
   ]
  }
 ],
 "metadata": {
  "language_info": {
   "name": "python"
  },
  "orig_nbformat": 4
 },
 "nbformat": 4,
 "nbformat_minor": 2
}
