{
 "cells": [
  {
   "cell_type": "code",
   "execution_count": null,
   "metadata": {},
   "outputs": [],
   "source": [
    "# Generate table of contents\n",
    "import pandas as pd, ipywidgets as widgets, ipysheet as sheets, re\n",
    "from IPython.display import display, Markdown\n",
    "\n",
    "#Get items\n",
    "from items import common_items as item_list, ItemType\n",
    "\n",
    "\n",
    "# Title\n",
    "display(Markdown(\"# Common Items\"))\n",
    "\n",
    "# Table\n",
    "\n",
    "priorities = [\n",
    "            ItemType.ATTACK,\n",
    "            ItemType.DEFENSE,\n",
    "            ItemType.HEAL,\n",
    "            ItemType.SUPPORT,\n",
    "            ItemType.MISC,\n",
    "            ]\n",
    "\n",
    "table = pd.DataFrame(data={\n",
    "\"Name\":[f\"[{item.name}](#{item.name.lower().replace(' ','-')})\" for item in item_list.values()],\n",
    "\"Type\":[\" + \".join(list(map(lambda x:x.value, sorted(item.types, key=lambda x:x.value)))) for item in item_list.values()],\n",
    "\"Effect\":[item.description for item in item_list.values()],\n",
    "}\n",
    ")\n",
    "\n",
    "table = table.sort_values([\"Type\"])\n",
    "\n",
    "display(Markdown(table.to_markdown(index=False)))"
   ]
  },
  {
   "cell_type": "code",
   "execution_count": null,
   "metadata": {},
   "outputs": [],
   "source": [
    "# Generate contents\n",
    "for id,item in zip(item_list.keys(),item_list.values()):\n",
    "    # Item name and description\n",
    "    item_effects = [(effect_name,effect) for effect_name, effect in zip(item.effects.keys(),item.effects.values())]\n",
    "    display(\n",
    "    Markdown(f\"### {item.name} \\n {item.description} \\n \" + \"\".join([f\"- {effect_name}: {effect.latex} \\n\" for effect_name, effect in item_effects])),\n",
    "    Markdown(f\"{{admonition}} Show Graph \\n :class: dropdown \\n This is a WIP\")\n",
    "    )"
   ]
  },
  {
   "cell_type": "markdown",
   "metadata": {},
   "source": [
    ":::{admonition} My title\n",
    ":class: tip\n",
    "My content\n",
    ":::"
   ]
  }
 ],
 "metadata": {
  "interpreter": {
   "hash": "68783556e2603b5e95f6ebb41b563bf4022466d1b6945ee64055db1dd68b24be"
  },
  "kernelspec": {
   "display_name": "Python 3.10.2 64-bit",
   "language": "python",
   "name": "python3"
  },
  "language_info": {
   "codemirror_mode": {
    "name": "ipython",
    "version": 3
   },
   "file_extension": ".py",
   "mimetype": "text/x-python",
   "name": "python",
   "nbconvert_exporter": "python",
   "pygments_lexer": "ipython3",
   "version": "3.10.2"
  },
  "orig_nbformat": 4
 },
 "nbformat": 4,
 "nbformat_minor": 2
}
