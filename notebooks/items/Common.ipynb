{
 "cells": [
  {
   "cell_type": "code",
   "execution_count": 1,
   "metadata": {},
   "outputs": [
    {
     "data": {
      "text/markdown": [
       "# Common Items"
      ],
      "text/plain": [
       "<IPython.core.display.Markdown object>"
      ]
     },
     "metadata": {},
     "output_type": "display_data"
    },
    {
     "data": {
      "text/markdown": [
       "| Name                                                    | Type             | Effect                                                                                                                                                        |\n",
       "|:--------------------------------------------------------|:-----------------|:--------------------------------------------------------------------------------------------------------------------------------------------------------------|\n",
       "| [Armor-Piercing Rounds](#armor-piercing-rounds)         | Attack           | Deal an additional 20% damage (+20% per stack) to bosses                                                                                                      |\n",
       "| [Lens-Maker's Glasses](#lens-maker's-glasses)           | Attack           | Your attacks have a 10% (+10% per stack) chance to 'Critically Strike', dealing double damage                                                                 |\n",
       "| [Gasoline](#gasoline)                                   | Attack           | Killing an enemy ignites all enemies within 12m (+4m per stack) for 150% base damage. Additionally, enemies burn for 150% (+75% per stack) base damage        |\n",
       "| [Delicate Watch](#delicate-watch)                       | Attack           | Increase damage by 20% (+20% per stack). Taking damage to below 25% health breaks this item                                                                   |\n",
       "| [Crowbar](#crowbar)                                     | Attack           | Deal +75% (+75% per stack) damage to enemies above 90% health                                                                                                 |\n",
       "| [Focus Crystal](#focus-crystal)                         | Attack           | Increase damage to enemies within 13m by 20% (+20% per stack)                                                                                                 |\n",
       "| [Mocha](#mocha)                                         | Attack + Support | Increases attack speed by 7.5% (+7.5 per stack) and movement speed by 7% (+7% per stack)                                                                      |\n",
       "| [Bison Steak](#bison-steak)                             | Defense          | Increases maximum health by 25 (+25 per stack)                                                                                                                |\n",
       "| [Oddly-Shaped Opal](#oddly-shaped-opal)                 | Defense          | Increase armor by 100 (+100 per stack) while out of danger                                                                                                    |\n",
       "| [Personal Shield Generator](#personal-shield-generator) | Defense          | Gain a shield equal to 8% (+8% per stack) of your maximum health. Recharges outside of danger                                                                 |\n",
       "| [Repulsion Armor Plate](#repulsion-armor-plate)         | Defense          | Reduce all incoming damage by 5 (+5 per stack). Cannot be reduced below 1                                                                                     |\n",
       "| [Bustling Fungus](#bustling-fungus)                     | Heal             | After standing still for 1 second, create a zone that heals for 4.5% (+2.25% per stack) of your health every second to all allies within 3m (+1.5m per stack) |\n",
       "| [Power Elixir](#power-elixir)                           | Heal             | Taking damage to below 25% health consumes this item, healing you for 75% of maximum health                                                                   |\n",
       "| [Medkit](#medkit)                                       | Heal             | 2 seconds after getting hurt, heal for 20 plus an additional 5% (+5% per stack) of maximum health                                                             |\n",
       "| [Monster Tooth](#monster-tooth)                         | Heal             | Killing an enemy spawns a healing orb that heals for 8 plus an additional 2% (+2% per stack) of maximum health                                                |\n",
       "| [Cautious Slug](#cautious-slug)                         | Heal             | Increases base health regeneration by +3 hp/s (+3 hp/s per stack) while outside of combat                                                                     |\n",
       "| [Bundle of Fireworks](#bundle-of-fireworks)             | Misc.            | Activating an interactable launches 8 (+4 per stack) fireworks that deal 300% base damage                                                                     |\n",
       "| [Energy Drink](#energy-drink)                           | Support          | Sprint speed is improved by 25% (+25% per stack)                                                                                                              |\n",
       "| [Backup Magazine](#backup-magazine)                     | Support          | Add +1 (+1 per stack) charge of your Secondary skill                                                                                                          |\n",
       "| [Paul's Goat Hoof](#paul's-goat-hoof)                   | Support          | Increases movement speed by 14% (+14% per stack)                                                                                                              |"
      ],
      "text/plain": [
       "<IPython.core.display.Markdown object>"
      ]
     },
     "metadata": {},
     "output_type": "display_data"
    }
   ],
   "source": [
    "# Generate table of contents\n",
    "import pandas as pd, ipywidgets as widgets, ipysheet as sheets, re\n",
    "from IPython.display import display, Markdown\n",
    "\n",
    "#Get items\n",
    "from items import common_items as item_list, ItemType\n",
    "\n",
    "\n",
    "# Title\n",
    "display(Markdown(\"# Common Items\"))\n",
    "\n",
    "# Table\n",
    "\n",
    "priorities = [\n",
    "            ItemType.ATTACK,\n",
    "            ItemType.DEFENSE,\n",
    "            ItemType.HEAL,\n",
    "            ItemType.SUPPORT,\n",
    "            ItemType.MISC,\n",
    "            ]\n",
    "\n",
    "table = pd.DataFrame(data={\n",
    "\"Name\":[f\"[{item.name}](#{item.name.lower().replace(' ','-')})\" for item in item_list.values()],\n",
    "\"Type\":[\" + \".join(list(map(lambda x:x.value, sorted(item.types, key=lambda x:x.value)))) for item in item_list.values()],\n",
    "\"Effect\":[item.description for item in item_list.values()],\n",
    "}\n",
    ")\n",
    "\n",
    "table = table.sort_values([\"Type\"])\n",
    "\n",
    "display(Markdown(table.to_markdown(index=False)))"
   ]
  },
  {
   "cell_type": "code",
   "execution_count": 2,
   "metadata": {},
   "outputs": [
    {
     "data": {
      "text/markdown": [
       "### Armor-Piercing Rounds \n",
       " Deal an additional 20% damage (+20% per stack) to bosses \n",
       " - Damage to Bosses: $f(x) = 1 + 0.2x$ \n"
      ],
      "text/plain": [
       "<IPython.core.display.Markdown object>"
      ]
     },
     "metadata": {},
     "output_type": "display_data"
    },
    {
     "data": {
      "text/markdown": [
       "### Backup Magazine \n",
       " Add +1 (+1 per stack) charge of your Secondary skill \n",
       " - Bonus Secondary Skill Charges: $f(x) = 0 + 1x$ \n"
      ],
      "text/plain": [
       "<IPython.core.display.Markdown object>"
      ]
     },
     "metadata": {},
     "output_type": "display_data"
    },
    {
     "data": {
      "text/markdown": [
       "### Bison Steak \n",
       " Increases maximum health by 25 (+25 per stack) \n",
       " - Max Health Increase: $f(x) = 0 + 25x$ \n"
      ],
      "text/plain": [
       "<IPython.core.display.Markdown object>"
      ]
     },
     "metadata": {},
     "output_type": "display_data"
    },
    {
     "data": {
      "text/markdown": [
       "### Bundle of Fireworks \n",
       " Activating an interactable launches 8 (+4 per stack) fireworks that deal 300% base damage \n",
       " - Fireworks on Interacting: $f(x) = 4 + 4x$ \n"
      ],
      "text/plain": [
       "<IPython.core.display.Markdown object>"
      ]
     },
     "metadata": {},
     "output_type": "display_data"
    },
    {
     "data": {
      "text/markdown": [
       "### Bustling Fungus \n",
       " After standing still for 1 second, create a zone that heals for 4.5% (+2.25% per stack) of your health every second to all allies within 3m (+1.5m per stack) \n",
       " - Heal Percent on Standing Still: $f(x) = 0.0225 + 0.0225x$ \n",
       "- Heal Range on Standing Still: $f(x) = 1.5 + 1.5x$ \n"
      ],
      "text/plain": [
       "<IPython.core.display.Markdown object>"
      ]
     },
     "metadata": {},
     "output_type": "display_data"
    },
    {
     "data": {
      "text/markdown": [
       "### Cautious Slug \n",
       " Increases base health regeneration by +3 hp/s (+3 hp/s per stack) while outside of combat \n",
       " - Heal Amount Outside Combat: $f(x) = 0 + 3x$ \n"
      ],
      "text/plain": [
       "<IPython.core.display.Markdown object>"
      ]
     },
     "metadata": {},
     "output_type": "display_data"
    },
    {
     "data": {
      "text/markdown": [
       "### Crowbar \n",
       " Deal +75% (+75% per stack) damage to enemies above 90% health \n",
       " - Bonus Damage to Enemies at Full Health: $f(x) = 1 + 0.75x$ \n"
      ],
      "text/plain": [
       "<IPython.core.display.Markdown object>"
      ]
     },
     "metadata": {},
     "output_type": "display_data"
    },
    {
     "data": {
      "text/markdown": [
       "### Delicate Watch \n",
       " Increase damage by 20% (+20% per stack). Taking damage to below 25% health breaks this item \n",
       " - Bonus Damage: $f(x) = 1 + 0.2x$ \n"
      ],
      "text/plain": [
       "<IPython.core.display.Markdown object>"
      ]
     },
     "metadata": {},
     "output_type": "display_data"
    },
    {
     "data": {
      "text/markdown": [
       "### Energy Drink \n",
       " Sprint speed is improved by 25% (+25% per stack) \n",
       " - Bonus Sprint Speed: $f(x) = 1 + 0.25x$ \n"
      ],
      "text/plain": [
       "<IPython.core.display.Markdown object>"
      ]
     },
     "metadata": {},
     "output_type": "display_data"
    },
    {
     "data": {
      "text/markdown": [
       "### Focus Crystal \n",
       " Increase damage to enemies within 13m by 20% (+20% per stack) \n",
       " - Bonus Damage to Nearby Enemies: $f(x) = 1 + 0.2x$ \n"
      ],
      "text/plain": [
       "<IPython.core.display.Markdown object>"
      ]
     },
     "metadata": {},
     "output_type": "display_data"
    },
    {
     "data": {
      "text/markdown": [
       "### Gasoline \n",
       " Killing an enemy ignites all enemies within 12m (+4m per stack) for 150% base damage. Additionally, enemies burn for 150% (+75% per stack) base damage \n",
       " - Ignite Range on Kill: $f(x) = 8 + 4x$ \n",
       "- Burn Damage over Time: $f(x) = 0.75 + 0.75x$ \n"
      ],
      "text/plain": [
       "<IPython.core.display.Markdown object>"
      ]
     },
     "metadata": {},
     "output_type": "display_data"
    },
    {
     "data": {
      "text/markdown": [
       "### Lens-Maker's Glasses \n",
       " Your attacks have a 10% (+10% per stack) chance to 'Critically Strike', dealing double damage \n",
       " - Crit. Chance: $f(x) = 0 + 0.1x$ \n"
      ],
      "text/plain": [
       "<IPython.core.display.Markdown object>"
      ]
     },
     "metadata": {},
     "output_type": "display_data"
    },
    {
     "data": {
      "text/markdown": [
       "### Medkit \n",
       " 2 seconds after getting hurt, heal for 20 plus an additional 5% (+5% per stack) of maximum health \n",
       " - Heal After Taking Damage: $f(x) = 0 + 0.05x$ \n"
      ],
      "text/plain": [
       "<IPython.core.display.Markdown object>"
      ]
     },
     "metadata": {},
     "output_type": "display_data"
    },
    {
     "data": {
      "text/markdown": [
       "### Mocha \n",
       " Increases attack speed by 7.5% (+7.5 per stack) and movement speed by 7% (+7% per stack) \n",
       " - Bonus Attack Speed: $f(x) = 0 + 0.075x$ \n",
       "- Bonus Move Speed: $f(x) = 0 + 0.07x$ \n"
      ],
      "text/plain": [
       "<IPython.core.display.Markdown object>"
      ]
     },
     "metadata": {},
     "output_type": "display_data"
    },
    {
     "data": {
      "text/markdown": [
       "### Monster Tooth \n",
       " Killing an enemy spawns a healing orb that heals for 8 plus an additional 2% (+2% per stack) of maximum health \n",
       " - Base Heal on Kill: $f(x) = 8 + 0x$ \n",
       "- Heal on Kill: $f(x) = 0 + 0.02x$ \n"
      ],
      "text/plain": [
       "<IPython.core.display.Markdown object>"
      ]
     },
     "metadata": {},
     "output_type": "display_data"
    },
    {
     "data": {
      "text/markdown": [
       "### Oddly-Shaped Opal \n",
       " Increase armor by 100 (+100 per stack) while out of danger \n",
       " - Armor While Out of Danger: $f(x) = 0 + 100x$ \n"
      ],
      "text/plain": [
       "<IPython.core.display.Markdown object>"
      ]
     },
     "metadata": {},
     "output_type": "display_data"
    },
    {
     "data": {
      "text/markdown": [
       "### Paul's Goat Hoof \n",
       " Increases movement speed by 14% (+14% per stack) \n",
       " - Bonus Move Speed: $f(x) = 1 + 0.14x$ \n"
      ],
      "text/plain": [
       "<IPython.core.display.Markdown object>"
      ]
     },
     "metadata": {},
     "output_type": "display_data"
    },
    {
     "data": {
      "text/markdown": [
       "### Personal Shield Generator \n",
       " Gain a shield equal to 8% (+8% per stack) of your maximum health. Recharges outside of danger \n",
       " - Bonus Shield: $f(x) = 1 + 0.08x$ \n"
      ],
      "text/plain": [
       "<IPython.core.display.Markdown object>"
      ]
     },
     "metadata": {},
     "output_type": "display_data"
    },
    {
     "data": {
      "text/markdown": [
       "### Power Elixir \n",
       " Taking damage to below 25% health consumes this item, healing you for 75% of maximum health \n",
       " - Heals When Low Health: $f(x) = 0 + 1x$ \n"
      ],
      "text/plain": [
       "<IPython.core.display.Markdown object>"
      ]
     },
     "metadata": {},
     "output_type": "display_data"
    },
    {
     "data": {
      "text/markdown": [
       "### Repulsion Armor Plate \n",
       " Reduce all incoming damage by 5 (+5 per stack). Cannot be reduced below 1 \n",
       " - Damage Reduction: $f(x) = 0 + 5x$ \n"
      ],
      "text/plain": [
       "<IPython.core.display.Markdown object>"
      ]
     },
     "metadata": {},
     "output_type": "display_data"
    }
   ],
   "source": [
    "# Generate contents\n",
    "for id,item in zip(item_list.keys(),item_list.values()):\n",
    "    # Item name and description\n",
    "    item_effects = [(effect_name,effect) for effect_name, effect in zip(item.effects.keys(),item.effects.values())]\n",
    "    display(\n",
    "    Markdown(f\"### {item.name} \\n {item.description} \\n \" + \"\".join([f\"- {effect_name}: {effect.latex} \\n\" for effect_name, effect in item_effects]))\n",
    "    )"
   ]
  }
 ],
 "metadata": {
  "interpreter": {
   "hash": "68783556e2603b5e95f6ebb41b563bf4022466d1b6945ee64055db1dd68b24be"
  },
  "kernelspec": {
   "display_name": "Python 3.10.2 64-bit",
   "language": "python",
   "name": "python3"
  },
  "language_info": {
   "codemirror_mode": {
    "name": "ipython",
    "version": 3
   },
   "file_extension": ".py",
   "mimetype": "text/x-python",
   "name": "python",
   "nbconvert_exporter": "python",
   "pygments_lexer": "ipython3",
   "version": "3.10.2"
  },
  "orig_nbformat": 4
 },
 "nbformat": 4,
 "nbformat_minor": 2
}
